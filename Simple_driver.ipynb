{
 "cells": [
  {
   "cell_type": "code",
   "execution_count": 3,
   "metadata": {},
   "outputs": [],
   "source": [
    "from core.computefeature import ComputeFeatureBase\n",
    "from core.feature.phone_features.phone_features import PhoneFeatures\n",
    "from cerebralcortex.cerebralcortex import CerebralCortex\n",
    "from datetime import datetime\n",
    "from datetime import timedelta\n",
    "import matplotlib.pyplot as plt\n",
    "import numpy as np\n",
    "\n",
    "\n",
    "# Initialization\n",
    "cc = CerebralCortex('/home/md2k/cc_conf/')\n",
    "\n",
    "# Initialize the feature to be executed\n",
    "phone_features = PhoneFeatures(cc)\n",
    "\n",
    "all_userids = cc.get_all_users('demo')\n",
    "\n",
    "# Get your userid\n",
    "userid = all_userids[0]['identifier']\n",
    "\n",
    "# Initialize the days for which you need to compute the feature\n",
    "date_format = '%Y%m%d'\n",
    "\n",
    "start_date = datetime.strptime('20171201', date_format)\n",
    "end_date = datetime.strptime('20171231', date_format)\n",
    "\n",
    "all_days = []\n",
    "while True:\n",
    "    all_days.append(start_date.strftime(date_format))\n",
    "    start_date += timedelta(days = 1)\n",
    "    if start_date > end_date : break\n",
    "\n",
    "# Execute the feature computation\n",
    "#phone_features.process(userid,all_days)\n",
    "\n",
    "# Access your computation results\n",
    "# get stream id for a stream\n",
    "sms_count_stream = cc.get_stream_id(userid, 'org.md2k.data_analysis.feature.phone.call.day.count')\n",
    "\n",
    "'''\n",
    "Iterate through stream_ids. One good way is to make use of the version \n",
    "information in the metadata to select the desired stream\n",
    "'''\n",
    "for count_stream in sms_count_stream:\n",
    "    streamid = count_stream['identifier']\n",
    "    count = []\n",
    "    for day in all_days:\n",
    "        count_data = cc.get_stream(streamid, userid, day)\n",
    "        # we expect only 1 data point per day for this particular stream\n",
    "        sample = count_data.data[0].sample\n",
    "        count.append(sample)\n",
    "    \n",
    "    # Let's plot our computation\n",
    "    plt.bar(np.arange(len(all_days)), count, align='center', alpha=0.5)\n",
    "    dates = [datetime.strptime(day, date_format).day for day in all_days]\n",
    "    plt.xticks(np.arange(len(all_days)), dates)\n",
    "    plt.ylabel('Total number of calls in the day')\n",
    "    plt.xlabel('Day')\n",
    "    plt.show()\n",
    "\n"
   ]
  },
  {
   "cell_type": "code",
   "execution_count": null,
   "metadata": {},
   "outputs": [],
   "source": []
  },
  {
   "cell_type": "code",
   "execution_count": null,
   "metadata": {},
   "outputs": [],
   "source": []
  }
 ],
 "metadata": {
  "kernelspec": {
   "display_name": "pySpark (Spark 2.2.0) (Python 3)",
   "language": "python",
   "name": "pyspark"
  },
  "language_info": {
   "codemirror_mode": {
    "name": "ipython",
    "version": 3
   },
   "file_extension": ".py",
   "mimetype": "text/x-python",
   "name": "python",
   "nbconvert_exporter": "python",
   "pygments_lexer": "ipython3",
   "version": "3.6.5"
  }
 },
 "nbformat": 4,
 "nbformat_minor": 2
}
